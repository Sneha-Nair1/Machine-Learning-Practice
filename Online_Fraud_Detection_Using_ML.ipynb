{
  "nbformat": 4,
  "nbformat_minor": 0,
  "metadata": {
    "colab": {
      "provenance": []
    },
    "kernelspec": {
      "name": "python3",
      "display_name": "Python 3"
    },
    "language_info": {
      "name": "python"
    }
  },
  "cells": [
    {
      "cell_type": "code",
      "execution_count": 9,
      "metadata": {
        "id": "KWHmGwL73Qcn"
      },
      "outputs": [],
      "source": [
        "import pandas as pd\n",
        "import numpy as np\n",
        "from sklearn.model_selection import train_test_split\n",
        "from sklearn.tree import DecisionTreeClassifier\n",
        "from sklearn.metrics import accuracy_score\n",
        "from sklearn.neighbors import KNeighborsClassifier\n",
        "from sklearn.linear_model import LogisticRegression\n",
        "from sklearn.ensemble import RandomForestClassifier\n",
        "import matplotlib.pyplot as plt\n",
        "\n"
      ]
    },
    {
      "cell_type": "code",
      "source": [
        "data = pd.read_csv('/content/card_transdata.csv')\n",
        "data.head(5)"
      ],
      "metadata": {
        "id": "aQlcqhIN3bBq"
      },
      "execution_count": null,
      "outputs": []
    },
    {
      "cell_type": "code",
      "source": [
        "data.isnull().sum()\n",
        "X = data.drop('fraud', axis = 1).values\n",
        "y = data['fraud'].values\n",
        "X_train, X_test, y_train, y_test = train_test_split(X, y, test_size = 0.25, random_state = 1)\n"
      ],
      "metadata": {
        "id": "QD83J7Gz_It1"
      },
      "execution_count": 11,
      "outputs": []
    },
    {
      "cell_type": "code",
      "source": [
        "DT = DecisionTreeClassifier(max_depth = 4, criterion = 'entropy')\n",
        "DT.fit(X_train, y_train)\n",
        "dt_yhat = DT.predict(X_test)\n",
        "a = (accuracy_score(y_test, dt_yhat))\n",
        "print('Accuracy score of the Decision Tree model is {}'.format(accuracy_score(y_test, dt_yhat)))\n",
        "\n"
      ],
      "metadata": {
        "id": "rp6lZupF_JSY"
      },
      "execution_count": null,
      "outputs": []
    },
    {
      "cell_type": "code",
      "source": [
        "n = 7\n",
        "KNN = KNeighborsClassifier(n_neighbors = n)\n",
        "KNN.fit(X_train, y_train)\n",
        "knn_yhat = KNN.predict(X_test)\n",
        "b = (accuracy_score(y_test, knn_yhat))\n",
        "print('Accuracy score of the K-Nearest Neighbors model is {}'.format(accuracy_score(y_test, knn_yhat)))\n"
      ],
      "metadata": {
        "id": "EYLywyo9_3Ks"
      },
      "execution_count": null,
      "outputs": []
    },
    {
      "cell_type": "code",
      "source": [
        "lr = LogisticRegression()\n",
        "lr.fit(X_train, y_train)\n",
        "lr_yhat = lr.predict(X_test)\n",
        "c = (accuracy_score(y_test, lr_yhat))\n",
        "print('Accuracy score of the Logistic Regression model is {}'.format(accuracy_score(y_test, lr_yhat)))\n",
        "\n"
      ],
      "metadata": {
        "id": "eT1xxCxH_59n"
      },
      "execution_count": null,
      "outputs": []
    },
    {
      "cell_type": "code",
      "source": [
        "rf = RandomForestClassifier(max_depth = 4)\n",
        "rf.fit(X_train, y_train)\n",
        "rf_yhat = rf.predict(X_test)\n",
        "d = (accuracy_score(y_test, rf_yhat))\n",
        "print('Accuracy score of the Random Forest model is {}'.format(accuracy_score(y_test, rf_yhat)))\n"
      ],
      "metadata": {
        "id": "2eQ5Ft8x_90A"
      },
      "execution_count": null,
      "outputs": []
    },
    {
      "cell_type": "code",
      "source": [
        "data = {'DecisionTree': a, 'Knn': b, 'Lr': c,'RF': d}\n",
        "Algorithms = list(data.keys())\n",
        "Accuracies = list(data.values())\n"
      ],
      "metadata": {
        "id": "2eL2jKlaADNK"
      },
      "execution_count": null,
      "outputs": []
    },
    {
      "cell_type": "code",
      "source": [
        "fig = plt.figure(figsize = (10, 5))\n",
        "plt.bar(Algorithms, Accuracies, color ='orange', width = 0.4)\n",
        "plt.xlabel(\"Algorithms\")\n",
        "plt.ylabel(\"Accuracies\")\n",
        "plt.title(\"Comparisions between the algorithms\")\n",
        "plt.show()\n"
      ],
      "metadata": {
        "id": "dFUKPL4ZAEP7"
      },
      "execution_count": null,
      "outputs": []
    }
  ]
}