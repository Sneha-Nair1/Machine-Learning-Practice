{
  "nbformat": 4,
  "nbformat_minor": 0,
  "metadata": {
    "colab": {
      "provenance": [],
      "collapsed_sections": []
    },
    "kernelspec": {
      "name": "python3",
      "display_name": "Python 3"
    },
    "language_info": {
      "name": "python"
    }
  },
  "cells": [
    {
      "cell_type": "code",
      "execution_count": null,
      "metadata": {
        "id": "4D57MIuiJ1r3"
      },
      "outputs": [],
      "source": [
        "import pandas as pd\n",
        "import numpy as np\n",
        "import matplotlib.pyplot as plt\n"
      ]
    },
    {
      "cell_type": "code",
      "source": [
        "df=pd.read_csv(\"/content/Reviews 1.csv\")\n",
        "df.tail()\n"
      ],
      "metadata": {
        "id": "aK-vIkbENiIF",
        "colab": {
          "base_uri": "https://localhost:8080/",
          "height": 441
        },
        "outputId": "0edce11b-cab8-403b-9457-97825c64d999"
      },
      "execution_count": null,
      "outputs": [
        {
          "output_type": "execute_result",
          "data": {
            "text/plain": [
              "    Id   ProductId          UserId         ProfileName  HelpfulnessNumerator  \\\n",
              "93  94  B0019CW0HE  A3AF72GP4GVRY1       John D. Meara                     0   \n",
              "94  95  B0019CW0HE  A1DJAAKLPCJRZD               wendy                     0   \n",
              "95  97  B0019CW0HE  A18AAABCIJKC5Q             Rhiever                     0   \n",
              "96  98  B0019CW0HE  A3UII2114114PI  FuNky Faja \"SiLkk\"                     0   \n",
              "97  99  B0019CW0HE   ABZ9F0D94YK45    Amazon-tron 3000                     0   \n",
              "\n",
              "    HelpfulnessDenominator  Score        Time  \\\n",
              "93                       0      5  1330041600   \n",
              "94                       0      5  1329609600   \n",
              "95                       0      5  1303776000   \n",
              "96                       0      5  1297296000   \n",
              "97                       0      5  1295308800   \n",
              "\n",
              "                                           Summary  \\\n",
              "93                                 Great Dog Food!   \n",
              "94                                   So convenient   \n",
              "95                                  Great dog food   \n",
              "96  Great allergy sensitive dog food, dogs love it   \n",
              "97  Perfect for our English Bulldog with Allergies   \n",
              "\n",
              "                                                 Text  \n",
              "93  My golden retriever is one of the most picky d...  \n",
              "94  This is the same food we get at pet store. But...  \n",
              "95  My 1-1/2 year old basenji/jack russell mix lov...  \n",
              "96  Our pup has experienced allergies in forms of ...  \n",
              "97  My English Bulldog had skin allergies the summ...  "
            ],
            "text/html": [
              "\n",
              "  <div id=\"df-dd988dd2-4b3f-4a15-ba19-2199414a6be9\">\n",
              "    <div class=\"colab-df-container\">\n",
              "      <div>\n",
              "<style scoped>\n",
              "    .dataframe tbody tr th:only-of-type {\n",
              "        vertical-align: middle;\n",
              "    }\n",
              "\n",
              "    .dataframe tbody tr th {\n",
              "        vertical-align: top;\n",
              "    }\n",
              "\n",
              "    .dataframe thead th {\n",
              "        text-align: right;\n",
              "    }\n",
              "</style>\n",
              "<table border=\"1\" class=\"dataframe\">\n",
              "  <thead>\n",
              "    <tr style=\"text-align: right;\">\n",
              "      <th></th>\n",
              "      <th>Id</th>\n",
              "      <th>ProductId</th>\n",
              "      <th>UserId</th>\n",
              "      <th>ProfileName</th>\n",
              "      <th>HelpfulnessNumerator</th>\n",
              "      <th>HelpfulnessDenominator</th>\n",
              "      <th>Score</th>\n",
              "      <th>Time</th>\n",
              "      <th>Summary</th>\n",
              "      <th>Text</th>\n",
              "    </tr>\n",
              "  </thead>\n",
              "  <tbody>\n",
              "    <tr>\n",
              "      <th>93</th>\n",
              "      <td>94</td>\n",
              "      <td>B0019CW0HE</td>\n",
              "      <td>A3AF72GP4GVRY1</td>\n",
              "      <td>John D. Meara</td>\n",
              "      <td>0</td>\n",
              "      <td>0</td>\n",
              "      <td>5</td>\n",
              "      <td>1330041600</td>\n",
              "      <td>Great Dog Food!</td>\n",
              "      <td>My golden retriever is one of the most picky d...</td>\n",
              "    </tr>\n",
              "    <tr>\n",
              "      <th>94</th>\n",
              "      <td>95</td>\n",
              "      <td>B0019CW0HE</td>\n",
              "      <td>A1DJAAKLPCJRZD</td>\n",
              "      <td>wendy</td>\n",
              "      <td>0</td>\n",
              "      <td>0</td>\n",
              "      <td>5</td>\n",
              "      <td>1329609600</td>\n",
              "      <td>So convenient</td>\n",
              "      <td>This is the same food we get at pet store. But...</td>\n",
              "    </tr>\n",
              "    <tr>\n",
              "      <th>95</th>\n",
              "      <td>97</td>\n",
              "      <td>B0019CW0HE</td>\n",
              "      <td>A18AAABCIJKC5Q</td>\n",
              "      <td>Rhiever</td>\n",
              "      <td>0</td>\n",
              "      <td>0</td>\n",
              "      <td>5</td>\n",
              "      <td>1303776000</td>\n",
              "      <td>Great dog food</td>\n",
              "      <td>My 1-1/2 year old basenji/jack russell mix lov...</td>\n",
              "    </tr>\n",
              "    <tr>\n",
              "      <th>96</th>\n",
              "      <td>98</td>\n",
              "      <td>B0019CW0HE</td>\n",
              "      <td>A3UII2114114PI</td>\n",
              "      <td>FuNky Faja \"SiLkk\"</td>\n",
              "      <td>0</td>\n",
              "      <td>0</td>\n",
              "      <td>5</td>\n",
              "      <td>1297296000</td>\n",
              "      <td>Great allergy sensitive dog food, dogs love it</td>\n",
              "      <td>Our pup has experienced allergies in forms of ...</td>\n",
              "    </tr>\n",
              "    <tr>\n",
              "      <th>97</th>\n",
              "      <td>99</td>\n",
              "      <td>B0019CW0HE</td>\n",
              "      <td>ABZ9F0D94YK45</td>\n",
              "      <td>Amazon-tron 3000</td>\n",
              "      <td>0</td>\n",
              "      <td>0</td>\n",
              "      <td>5</td>\n",
              "      <td>1295308800</td>\n",
              "      <td>Perfect for our English Bulldog with Allergies</td>\n",
              "      <td>My English Bulldog had skin allergies the summ...</td>\n",
              "    </tr>\n",
              "  </tbody>\n",
              "</table>\n",
              "</div>\n",
              "      <button class=\"colab-df-convert\" onclick=\"convertToInteractive('df-dd988dd2-4b3f-4a15-ba19-2199414a6be9')\"\n",
              "              title=\"Convert this dataframe to an interactive table.\"\n",
              "              style=\"display:none;\">\n",
              "        \n",
              "  <svg xmlns=\"http://www.w3.org/2000/svg\" height=\"24px\"viewBox=\"0 0 24 24\"\n",
              "       width=\"24px\">\n",
              "    <path d=\"M0 0h24v24H0V0z\" fill=\"none\"/>\n",
              "    <path d=\"M18.56 5.44l.94 2.06.94-2.06 2.06-.94-2.06-.94-.94-2.06-.94 2.06-2.06.94zm-11 1L8.5 8.5l.94-2.06 2.06-.94-2.06-.94L8.5 2.5l-.94 2.06-2.06.94zm10 10l.94 2.06.94-2.06 2.06-.94-2.06-.94-.94-2.06-.94 2.06-2.06.94z\"/><path d=\"M17.41 7.96l-1.37-1.37c-.4-.4-.92-.59-1.43-.59-.52 0-1.04.2-1.43.59L10.3 9.45l-7.72 7.72c-.78.78-.78 2.05 0 2.83L4 21.41c.39.39.9.59 1.41.59.51 0 1.02-.2 1.41-.59l7.78-7.78 2.81-2.81c.8-.78.8-2.07 0-2.86zM5.41 20L4 18.59l7.72-7.72 1.47 1.35L5.41 20z\"/>\n",
              "  </svg>\n",
              "      </button>\n",
              "      \n",
              "  <style>\n",
              "    .colab-df-container {\n",
              "      display:flex;\n",
              "      flex-wrap:wrap;\n",
              "      gap: 12px;\n",
              "    }\n",
              "\n",
              "    .colab-df-convert {\n",
              "      background-color: #E8F0FE;\n",
              "      border: none;\n",
              "      border-radius: 50%;\n",
              "      cursor: pointer;\n",
              "      display: none;\n",
              "      fill: #1967D2;\n",
              "      height: 32px;\n",
              "      padding: 0 0 0 0;\n",
              "      width: 32px;\n",
              "    }\n",
              "\n",
              "    .colab-df-convert:hover {\n",
              "      background-color: #E2EBFA;\n",
              "      box-shadow: 0px 1px 2px rgba(60, 64, 67, 0.3), 0px 1px 3px 1px rgba(60, 64, 67, 0.15);\n",
              "      fill: #174EA6;\n",
              "    }\n",
              "\n",
              "    [theme=dark] .colab-df-convert {\n",
              "      background-color: #3B4455;\n",
              "      fill: #D2E3FC;\n",
              "    }\n",
              "\n",
              "    [theme=dark] .colab-df-convert:hover {\n",
              "      background-color: #434B5C;\n",
              "      box-shadow: 0px 1px 3px 1px rgba(0, 0, 0, 0.15);\n",
              "      filter: drop-shadow(0px 1px 2px rgba(0, 0, 0, 0.3));\n",
              "      fill: #FFFFFF;\n",
              "    }\n",
              "  </style>\n",
              "\n",
              "      <script>\n",
              "        const buttonEl =\n",
              "          document.querySelector('#df-dd988dd2-4b3f-4a15-ba19-2199414a6be9 button.colab-df-convert');\n",
              "        buttonEl.style.display =\n",
              "          google.colab.kernel.accessAllowed ? 'block' : 'none';\n",
              "\n",
              "        async function convertToInteractive(key) {\n",
              "          const element = document.querySelector('#df-dd988dd2-4b3f-4a15-ba19-2199414a6be9');\n",
              "          const dataTable =\n",
              "            await google.colab.kernel.invokeFunction('convertToInteractive',\n",
              "                                                     [key], {});\n",
              "          if (!dataTable) return;\n",
              "\n",
              "          const docLinkHtml = 'Like what you see? Visit the ' +\n",
              "            '<a target=\"_blank\" href=https://colab.research.google.com/notebooks/data_table.ipynb>data table notebook</a>'\n",
              "            + ' to learn more about interactive tables.';\n",
              "          element.innerHTML = '';\n",
              "          dataTable['output_type'] = 'display_data';\n",
              "          await google.colab.output.renderOutput(dataTable, element);\n",
              "          const docLink = document.createElement('div');\n",
              "          docLink.innerHTML = docLinkHtml;\n",
              "          element.appendChild(docLink);\n",
              "        }\n",
              "      </script>\n",
              "    </div>\n",
              "  </div>\n",
              "  "
            ]
          },
          "metadata": {},
          "execution_count": 3
        }
      ]
    },
    {
      "cell_type": "code",
      "source": [
        "df.max()"
      ],
      "metadata": {
        "id": "WkHHUnVPPi4a",
        "colab": {
          "base_uri": "https://localhost:8080/"
        },
        "outputId": "ed7e42ab-3159-454f-e166-dc3b41022a3d"
      },
      "execution_count": null,
      "outputs": [
        {
          "output_type": "execute_result",
          "data": {
            "text/plain": [
              "Id                                                                       99\n",
              "ProductId                                                        B00813GRG4\n",
              "UserId                                                        AZOF9E17RGZH8\n",
              "ProfileName                                                 willie \"roadie\"\n",
              "HelpfulnessNumerator                                                     19\n",
              "HelpfulnessDenominator                                                   19\n",
              "Score                                                                     5\n",
              "Time                                                             1351209600\n",
              "Summary                                                    this is the best\n",
              "Text                      we're used to spicy foods down here in south t...\n",
              "dtype: object"
            ]
          },
          "metadata": {},
          "execution_count": 4
        }
      ]
    },
    {
      "cell_type": "code",
      "source": [
        "x =df.iloc[:,[4,5]].values\n",
        "y=df.iloc[:,4].values\n",
        "print(x)\n",
        "\n",
        "\n"
      ],
      "metadata": {
        "id": "SOYGKLJZiYKW",
        "colab": {
          "base_uri": "https://localhost:8080/"
        },
        "outputId": "c3139bf7-1692-4779-d1d5-f61cca6dd923"
      },
      "execution_count": null,
      "outputs": [
        {
          "output_type": "stream",
          "name": "stdout",
          "text": [
            "[[ 1  1]\n",
            " [ 0  0]\n",
            " [ 1  1]\n",
            " [ 3  3]\n",
            " [ 0  0]\n",
            " [ 0  0]\n",
            " [ 0  0]\n",
            " [ 0  0]\n",
            " [ 1  1]\n",
            " [ 0  0]\n",
            " [ 1  1]\n",
            " [ 4  4]\n",
            " [ 1  1]\n",
            " [ 2  2]\n",
            " [ 4  5]\n",
            " [ 4  5]\n",
            " [ 0  0]\n",
            " [ 0  0]\n",
            " [ 0  0]\n",
            " [ 0  0]\n",
            " [ 0  0]\n",
            " [ 0  0]\n",
            " [ 0  0]\n",
            " [ 0  0]\n",
            " [ 0  0]\n",
            " [ 0  0]\n",
            " [ 0  1]\n",
            " [ 0  1]\n",
            " [ 0  0]\n",
            " [ 1  1]\n",
            " [ 0  0]\n",
            " [ 0  1]\n",
            " [19 19]\n",
            " [13 13]\n",
            " [ 9  9]\n",
            " [ 3  3]\n",
            " [ 2  2]\n",
            " [ 1  1]\n",
            " [ 0  0]\n",
            " [ 0  0]\n",
            " [ 0  0]\n",
            " [ 0  0]\n",
            " [ 0  0]\n",
            " [ 0  0]\n",
            " [ 0  0]\n",
            " [ 0  0]\n",
            " [ 0  0]\n",
            " [ 1  2]\n",
            " [ 1  2]\n",
            " [ 0  1]\n",
            " [ 0  7]\n",
            " [ 4  4]\n",
            " [ 1  1]\n",
            " [ 0  0]\n",
            " [ 2  2]\n",
            " [ 0  0]\n",
            " [ 2  2]\n",
            " [ 1  1]\n",
            " [ 0  0]\n",
            " [ 0  0]\n",
            " [ 2  4]\n",
            " [ 0  2]\n",
            " [ 2  2]\n",
            " [ 3  3]\n",
            " [ 1  1]\n",
            " [ 1  1]\n",
            " [ 0  0]\n",
            " [ 0  1]\n",
            " [ 0  0]\n",
            " [ 0  2]\n",
            " [ 2  2]\n",
            " [ 1  1]\n",
            " [ 0  0]\n",
            " [ 0  1]\n",
            " [ 0  0]\n",
            " [ 0  0]\n",
            " [ 0  0]\n",
            " [ 0  0]\n",
            " [ 0  0]\n",
            " [ 0  0]\n",
            " [ 1  1]\n",
            " [ 1  1]\n",
            " [15 15]\n",
            " [ 5  5]\n",
            " [ 4  4]\n",
            " [ 4  4]\n",
            " [ 1  1]\n",
            " [ 1  1]\n",
            " [ 1  1]\n",
            " [ 0  0]\n",
            " [ 0  0]\n",
            " [ 0  0]\n",
            " [ 0  0]\n",
            " [ 0  0]\n",
            " [ 0  0]\n",
            " [ 0  0]\n",
            " [ 0  0]\n",
            " [ 0  0]]\n"
          ]
        }
      ]
    },
    {
      "cell_type": "code",
      "source": [
        "from sklearn.model_selection import train_test_split\n",
        "x_train,x_test,y_train,y_test=train_test_split(x,y,test_size=0.25,random_state=0)\n",
        "print(x_test)\n",
        "print(y_test)"
      ],
      "metadata": {
        "id": "h8pfoXJgok8k",
        "colab": {
          "base_uri": "https://localhost:8080/"
        },
        "outputId": "8414cdf9-f461-4648-d591-0af64008d4a5"
      },
      "execution_count": null,
      "outputs": [
        {
          "output_type": "stream",
          "name": "stdout",
          "text": [
            "[[ 0  1]\n",
            " [ 4  4]\n",
            " [ 1  1]\n",
            " [ 0  0]\n",
            " [ 0  0]\n",
            " [15 15]\n",
            " [ 0  0]\n",
            " [ 0  0]\n",
            " [ 2  2]\n",
            " [ 0  0]\n",
            " [ 0  0]\n",
            " [ 0  0]\n",
            " [ 1  1]\n",
            " [ 2  2]\n",
            " [ 0  0]\n",
            " [ 0  0]\n",
            " [ 0  0]\n",
            " [ 0  0]\n",
            " [13 13]\n",
            " [ 1  1]\n",
            " [ 0  0]\n",
            " [ 2  2]\n",
            " [ 3  3]\n",
            " [ 1  1]\n",
            " [ 0  0]]\n",
            "[ 0  4  1  0  0 15  0  0  2  0  0  0  1  2  0  0  0  0 13  1  0  2  3  1\n",
            "  0]\n"
          ]
        }
      ]
    },
    {
      "cell_type": "code",
      "source": [
        "from sklearn.preprocessing import StandardScaler\n",
        "st_x=StandardScaler()\n",
        "x_train=st_x.fit_transform(x_train)\n",
        "x_test=st_x.transform(x_test)\n",
        "print(x_train)\n"
      ],
      "metadata": {
        "id": "Dshf_0NWqtUp",
        "colab": {
          "base_uri": "https://localhost:8080/"
        },
        "outputId": "3ea71928-8499-4156-fafd-2fc8f6ecff1b"
      },
      "execution_count": null,
      "outputs": [
        {
          "output_type": "stream",
          "name": "stdout",
          "text": [
            "[[-0.04692595  0.21040542]\n",
            " [-0.4275475  -0.5210039 ]\n",
            " [-0.4275475  -0.5210039 ]\n",
            " [-0.04692595 -0.15529924]\n",
            " [-0.4275475  -0.5210039 ]\n",
            " [ 0.33369561  0.94181474]\n",
            " [-0.4275475  -0.5210039 ]\n",
            " [-0.04692595 -0.15529924]\n",
            " [-0.4275475  -0.5210039 ]\n",
            " [ 1.09493873  0.94181474]\n",
            " [-0.4275475  -0.15529924]\n",
            " [-0.4275475  -0.5210039 ]\n",
            " [ 0.33369561  0.21040542]\n",
            " [ 0.71431717  0.57611008]\n",
            " [-0.4275475  -0.15529924]\n",
            " [-0.4275475  -0.5210039 ]\n",
            " [-0.4275475   0.21040542]\n",
            " [-0.4275475  -0.5210039 ]\n",
            " [-0.4275475  -0.5210039 ]\n",
            " [-0.4275475  -0.5210039 ]\n",
            " [ 1.09493873  1.3075194 ]\n",
            " [-0.4275475  -0.5210039 ]\n",
            " [-0.4275475  -0.5210039 ]\n",
            " [-0.4275475  -0.5210039 ]\n",
            " [-0.4275475  -0.5210039 ]\n",
            " [-0.4275475  -0.5210039 ]\n",
            " [-0.4275475  -0.5210039 ]\n",
            " [-0.04692595 -0.15529924]\n",
            " [ 2.99804652  2.77033804]\n",
            " [-0.4275475  -0.5210039 ]\n",
            " [-0.4275475   2.03892872]\n",
            " [ 1.09493873  0.94181474]\n",
            " [ 0.71431717  0.57611008]\n",
            " [-0.4275475  -0.5210039 ]\n",
            " [-0.04692595 -0.15529924]\n",
            " [-0.04692595 -0.15529924]\n",
            " [-0.4275475  -0.15529924]\n",
            " [ 1.09493873  0.94181474]\n",
            " [-0.04692595 -0.15529924]\n",
            " [-0.4275475  -0.5210039 ]\n",
            " [ 6.80426211  6.42738465]\n",
            " [-0.4275475  -0.5210039 ]\n",
            " [ 1.09493873  1.3075194 ]\n",
            " [-0.4275475  -0.5210039 ]\n",
            " [-0.4275475  -0.5210039 ]\n",
            " [-0.04692595 -0.15529924]\n",
            " [-0.4275475  -0.15529924]\n",
            " [-0.4275475  -0.5210039 ]\n",
            " [-0.4275475  -0.5210039 ]\n",
            " [-0.4275475   0.21040542]\n",
            " [-0.4275475  -0.5210039 ]\n",
            " [-0.4275475  -0.5210039 ]\n",
            " [-0.4275475  -0.5210039 ]\n",
            " [-0.4275475  -0.5210039 ]\n",
            " [-0.4275475  -0.5210039 ]\n",
            " [-0.04692595 -0.15529924]\n",
            " [-0.04692595 -0.15529924]\n",
            " [-0.4275475  -0.5210039 ]\n",
            " [-0.4275475  -0.5210039 ]\n",
            " [-0.04692595 -0.15529924]\n",
            " [-0.4275475  -0.5210039 ]\n",
            " [-0.04692595 -0.15529924]\n",
            " [ 0.33369561  0.21040542]\n",
            " [-0.04692595 -0.15529924]\n",
            " [ 0.33369561  0.21040542]\n",
            " [-0.4275475  -0.5210039 ]\n",
            " [ 1.47556029  1.3075194 ]\n",
            " [-0.4275475  -0.5210039 ]\n",
            " [-0.4275475  -0.5210039 ]\n",
            " [-0.4275475  -0.15529924]\n",
            " [-0.04692595 -0.15529924]\n",
            " [-0.04692595  0.21040542]\n",
            " [-0.4275475  -0.5210039 ]]\n"
          ]
        }
      ]
    },
    {
      "cell_type": "code",
      "source": [
        "from sklearn.tree import DecisionTreeClassifier\n",
        "classifier= DecisionTreeClassifier(criterion='entropy',random_state=0)\n",
        "classifier.fit(x_train,y_train)\n",
        "y_pred=classifier.predict(x_test)\n",
        "print(y_pred)\n",
        "plt.show()"
      ],
      "metadata": {
        "id": "r2zP6v2xsHqs",
        "colab": {
          "base_uri": "https://localhost:8080/"
        },
        "outputId": "8b6d8b03-defa-4f7b-a7d4-6c7c140e7d6c"
      },
      "execution_count": null,
      "outputs": [
        {
          "output_type": "stream",
          "name": "stdout",
          "text": [
            "[ 0  4  1  0  0 19  0  0  2  0  0  0  1  2  0  0  0  0  9  1  0  2  3  1\n",
            "  0]\n"
          ]
        }
      ]
    },
    {
      "cell_type": "code",
      "source": [
        "from sklearn.metrics import confusion_matrix\n",
        "cm=confusion_matrix(y_test,y_pred)\n",
        "print(cm)"
      ],
      "metadata": {
        "id": "aH5Q9y-pr9H8",
        "colab": {
          "base_uri": "https://localhost:8080/"
        },
        "outputId": "dc0a686d-f824-4f52-9e87-18b0f78f34bc"
      },
      "execution_count": null,
      "outputs": [
        {
          "output_type": "stream",
          "name": "stdout",
          "text": [
            "[[14  0  0  0  0  0  0  0  0]\n",
            " [ 0  4  0  0  0  0  0  0  0]\n",
            " [ 0  0  3  0  0  0  0  0  0]\n",
            " [ 0  0  0  1  0  0  0  0  0]\n",
            " [ 0  0  0  0  1  0  0  0  0]\n",
            " [ 0  0  0  0  0  0  0  0  0]\n",
            " [ 0  0  0  0  0  1  0  0  0]\n",
            " [ 0  0  0  0  0  0  0  0  1]\n",
            " [ 0  0  0  0  0  0  0  0  0]]\n"
          ]
        }
      ]
    },
    {
      "cell_type": "code",
      "source": [
        "import matplotlib.pyplot as plt\n",
        "y_pred=classifier.predict(x_test)\n",
        "plt.plot(y_pred)\n",
        "plt.show()"
      ],
      "metadata": {
        "colab": {
          "base_uri": "https://localhost:8080/",
          "height": 265
        },
        "id": "a1HfbeM1wUdh",
        "outputId": "b3549227-716c-4476-b068-11982a99fd82"
      },
      "execution_count": null,
      "outputs": [
        {
          "output_type": "display_data",
          "data": {
            "text/plain": [
              "<Figure size 432x288 with 1 Axes>"
            ],
            "image/png": "[encoded data removed]"
          },
          "metadata": {
            "needs_background": "light"
          }
        }
      ]
    },
    {
      "cell_type": "code",
      "source": [
        "cm=confusion_matrix(y_test,y_pred)\n",
        "plt.plot(cm)\n",
        "plt.show()"
      ],
      "metadata": {
        "colab": {
          "base_uri": "https://localhost:8080/",
          "height": 265
        },
        "id": "uPQQwjn0wr_T",
        "outputId": "0b560ff4-fa05-46d9-94e3-6199a9b8a5fb"
      },
      "execution_count": null,
      "outputs": [
        {
          "output_type": "display_data",
          "data": {
            "text/plain": [
              "<Figure size 432x288 with 1 Axes>"
            ],
            "image/png": "[encoded data removed]"
          },
          "metadata": {
            "needs_background": "light"
          }
        }
      ]
    },
    {
      "cell_type": "code",
      "source": [
        "from sklearn import tree\n",
        "x,y=x.data,y.data \n",
        "classifier = tree.DecisionTreeClassifier()\n",
        "classifier = classifier.fit(x, y)\n",
        "tree.plot_tree(classifier)"
      ],
      "metadata": {
        "colab": {
          "base_uri": "https://localhost:8080/",
          "height": 578
        },
        "id": "zGWx7vOw5jIn",
        "outputId": "e1b792eb-0fbe-49af-82f3-5f0fae89b871"
      },
      "execution_count": null,
      "outputs": [
        {
          "output_type": "execute_result",
          "data": {
            "text/plain": [
              "[Text(0.16666666666666666, 0.95, 'X[0] <= 0.5\\ngini = 0.602\\nsamples = 98\\nvalue = [58, 19, 7, 3, 6, 1, 1, 1, 1, 1]'),\n",
              " Text(0.08333333333333333, 0.85, 'gini = 0.0\\nsamples = 58\\nvalue = [58, 0, 0, 0, 0, 0, 0, 0, 0, 0]'),\n",
              " Text(0.25, 0.85, 'X[0] <= 1.5\\ngini = 0.712\\nsamples = 40\\nvalue = [0, 19, 7, 3, 6, 1, 1, 1, 1, 1]'),\n",
              " Text(0.16666666666666666, 0.75, 'gini = 0.0\\nsamples = 19\\nvalue = [0, 19, 0, 0, 0, 0, 0, 0, 0, 0]'),\n",
              " Text(0.3333333333333333, 0.75, 'X[0] <= 2.5\\ngini = 0.776\\nsamples = 21\\nvalue = [0, 0, 7, 3, 6, 1, 1, 1, 1, 1]'),\n",
              " Text(0.25, 0.65, 'gini = 0.0\\nsamples = 7\\nvalue = [0, 0, 7, 0, 0, 0, 0, 0, 0, 0]'),\n",
              " Text(0.4166666666666667, 0.65, 'X[0] <= 3.5\\ngini = 0.745\\nsamples = 14\\nvalue = [0, 0, 0, 3, 6, 1, 1, 1, 1, 1]'),\n",
              " Text(0.3333333333333333, 0.55, 'gini = 0.0\\nsamples = 3\\nvalue = [0, 0, 0, 3, 0, 0, 0, 0, 0, 0]'),\n",
              " Text(0.5, 0.55, 'X[0] <= 4.5\\ngini = 0.661\\nsamples = 11\\nvalue = [0, 0, 0, 0, 6, 1, 1, 1, 1, 1]'),\n",
              " Text(0.4166666666666667, 0.45, 'gini = 0.0\\nsamples = 6\\nvalue = [0, 0, 0, 0, 6, 0, 0, 0, 0, 0]'),\n",
              " Text(0.5833333333333334, 0.45, 'X[1] <= 7.0\\ngini = 0.8\\nsamples = 5\\nvalue = [0, 0, 0, 0, 0, 1, 1, 1, 1, 1]'),\n",
              " Text(0.5, 0.35, 'gini = 0.0\\nsamples = 1\\nvalue = [0, 0, 0, 0, 0, 1, 0, 0, 0, 0]'),\n",
              " Text(0.6666666666666666, 0.35, 'X[1] <= 11.0\\ngini = 0.75\\nsamples = 4\\nvalue = [0, 0, 0, 0, 0, 0, 1, 1, 1, 1]'),\n",
              " Text(0.5833333333333334, 0.25, 'gini = 0.0\\nsamples = 1\\nvalue = [0, 0, 0, 0, 0, 0, 1, 0, 0, 0]'),\n",
              " Text(0.75, 0.25, 'X[0] <= 14.0\\ngini = 0.667\\nsamples = 3\\nvalue = [0, 0, 0, 0, 0, 0, 0, 1, 1, 1]'),\n",
              " Text(0.6666666666666666, 0.15, 'gini = 0.0\\nsamples = 1\\nvalue = [0, 0, 0, 0, 0, 0, 0, 1, 0, 0]'),\n",
              " Text(0.8333333333333334, 0.15, 'X[0] <= 17.0\\ngini = 0.5\\nsamples = 2\\nvalue = [0, 0, 0, 0, 0, 0, 0, 0, 1, 1]'),\n",
              " Text(0.75, 0.05, 'gini = 0.0\\nsamples = 1\\nvalue = [0, 0, 0, 0, 0, 0, 0, 0, 1, 0]'),\n",
              " Text(0.9166666666666666, 0.05, 'gini = 0.0\\nsamples = 1\\nvalue = [0, 0, 0, 0, 0, 0, 0, 0, 0, 1]')]"
            ]
          },
          "metadata": {},
          "execution_count": 12
        },
        {
          "output_type": "display_data",
          "data": {
            "text/plain": [
              "<Figure size 432x288 with 1 Axes>"
            ],
            "image/png": "[encoded data removed]"
          },
          "metadata": {
            "needs_background": "light"
          }
        }
      ]
    }
  ]
}