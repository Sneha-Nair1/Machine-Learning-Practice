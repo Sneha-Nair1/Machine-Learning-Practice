{
  "nbformat": 4,
  "nbformat_minor": 0,
  "metadata": {
    "colab": {
      "provenance": []
    },
    "kernelspec": {
      "name": "python3",
      "display_name": "Python 3"
    },
    "language_info": {
      "name": "python"
    }
  },
  "cells": [
    {
      "cell_type": "code",
      "source": [
        "import pandas as pd\n",
        "import numpy as np\n",
        "import matplotlib.pyplot as plt\n",
        "df=pd.read_csv(\"/content/Reviews 1.csv\")\n",
        "df.tail()"
      ],
      "metadata": {
        "id": "CHv12gyguXHE"
      },
      "execution_count": null,
      "outputs": []
    },
    {
      "cell_type": "code",
      "source": [
        "x =df.iloc[:,[4,5]].values\n",
        "y=df.iloc[:,4].values\n",
        "print(x)\n"
      ],
      "metadata": {
        "id": "mPp00YcVubr0"
      },
      "execution_count": null,
      "outputs": []
    },
    {
      "cell_type": "code",
      "source": [
        "from sklearn.model_selection import train_test_split\n",
        "x_train,x_test,y_train,y_test=train_test_split(x,y,test_size=0.25,random_state=0)\n",
        "print(x_test)\n",
        "print(y_test)"
      ],
      "metadata": {
        "id": "pwR3nVeOuopU"
      },
      "execution_count": null,
      "outputs": []
    },
    {
      "cell_type": "code",
      "source": [
        "from sklearn.preprocessing import StandardScaler\n",
        "st_x=StandardScaler()\n",
        "x_train=st_x.fit_transform(x_train)\n",
        "x_test=st_x.transform(x_test)\n",
        "print(x_train)\n"
      ],
      "metadata": {
        "id": "XILAUuLpus5L"
      },
      "execution_count": null,
      "outputs": []
    },
    {
      "cell_type": "code",
      "source": [
        "from sklearn.tree import DecisionTreeClassifier\n",
        "classifier= DecisionTreeClassifier(criterion='gini',random_state=0)\n",
        "classifier.fit(x_train,y_train)\n",
        "y_pred=classifier.predict(x_test)\n",
        "print(y_pred)\n",
        "plt.show()"
      ],
      "metadata": {
        "colab": {
          "base_uri": "https://localhost:8080/"
        },
        "id": "eA5dJwHyuxXI",
        "outputId": "a4b00f25-40b7-487a-a6c8-3c6e1695cb53"
      },
      "execution_count": null,
      "outputs": [
        {
          "output_type": "stream",
          "name": "stdout",
          "text": [
            "[ 0  4  1  0  0 19  0  0  2  0  0  0  1  2  0  0  0  0  9  1  0  2  3  1\n",
            "  0]\n"
          ]
        }
      ]
    },
    {
      "cell_type": "code",
      "source": [
        "from sklearn.metrics import confusion_matrix\n",
        "cm=confusion_matrix(y_test,y_pred)\n",
        "print(cm)"
      ],
      "metadata": {
        "id": "1zkAWEFQ1HUE",
        "colab": {
          "base_uri": "https://localhost:8080/"
        },
        "outputId": "ce6aea43-54a4-412c-99d4-294eee5597dd"
      },
      "execution_count": null,
      "outputs": [
        {
          "output_type": "stream",
          "name": "stdout",
          "text": [
            "[[14  0  0  0  0  0  0  0  0]\n",
            " [ 0  4  0  0  0  0  0  0  0]\n",
            " [ 0  0  3  0  0  0  0  0  0]\n",
            " [ 0  0  0  1  0  0  0  0  0]\n",
            " [ 0  0  0  0  1  0  0  0  0]\n",
            " [ 0  0  0  0  0  0  0  0  0]\n",
            " [ 0  0  0  0  0  1  0  0  0]\n",
            " [ 0  0  0  0  0  0  0  0  1]\n",
            " [ 0  0  0  0  0  0  0  0  0]]\n"
          ]
        }
      ]
    },
    {
      "cell_type": "code",
      "source": [
        "import matplotlib.pyplot as plt\n",
        "y_pred=classifier.predict(x_test)\n",
        "plt.plot(y_pred)\n",
        "plt.show()"
      ],
      "metadata": {
        "colab": {
          "base_uri": "https://localhost:8080/",
          "height": 265
        },
        "id": "Od6R1N2WUm8B",
        "outputId": "aa954adb-798e-4de9-d406-56fd8596a4de"
      },
      "execution_count": null,
      "outputs": [
        {
          "output_type": "display_data",
          "data": {
            "text/plain": [
              "<Figure size 432x288 with 1 Axes>"
            ],
            "image/png": "[encoded data removed]"
          },
          "metadata": {
            "needs_background": "light"
          }
        }
      ]
    },
    {
      "cell_type": "code",
      "source": [
        "cm=confusion_matrix(y_test,y_pred)\n",
        "plt.plot(cm)\n",
        "plt.show()"
      ],
      "metadata": {
        "colab": {
          "base_uri": "https://localhost:8080/",
          "height": 265
        },
        "id": "jlPIwxgRUzrI",
        "outputId": "61a78b40-bb53-4055-e97f-a105518b39cb"
      },
      "execution_count": null,
      "outputs": [
        {
          "output_type": "display_data",
          "data": {
            "text/plain": [
              "<Figure size 432x288 with 1 Axes>"
            ],
            "image/png": "[encoded data removed]"
          },
          "metadata": {
            "needs_background": "light"
          }
        }
      ]
    },
    {
      "cell_type": "code",
      "source": [
        "from sklearn import tree\n",
        "x,y=x.data,y.data \n",
        "classifier = tree.DecisionTreeClassifier()\n",
        "classifier = classifier.fit(x, y)\n",
        "tree.plot_tree(classifier)"
      ],
      "metadata": {
        "id": "9zR6R5zpU6I4",
        "outputId": "64bdf974-b638-479e-d2aa-5539b9eb1048",
        "colab": {
          "base_uri": "https://localhost:8080/",
          "height": 578
        }
      },
      "execution_count": null,
      "outputs": [
        {
          "output_type": "execute_result",
          "data": {
            "text/plain": [
              "[Text(0.16666666666666666, 0.95, 'X[0] <= 0.5\\ngini = 0.602\\nsamples = 98\\nvalue = [58, 19, 7, 3, 6, 1, 1, 1, 1, 1]'),\n",
              " Text(0.08333333333333333, 0.85, 'gini = 0.0\\nsamples = 58\\nvalue = [58, 0, 0, 0, 0, 0, 0, 0, 0, 0]'),\n",
              " Text(0.25, 0.85, 'X[0] <= 1.5\\ngini = 0.712\\nsamples = 40\\nvalue = [0, 19, 7, 3, 6, 1, 1, 1, 1, 1]'),\n",
              " Text(0.16666666666666666, 0.75, 'gini = 0.0\\nsamples = 19\\nvalue = [0, 19, 0, 0, 0, 0, 0, 0, 0, 0]'),\n",
              " Text(0.3333333333333333, 0.75, 'X[0] <= 2.5\\ngini = 0.776\\nsamples = 21\\nvalue = [0, 0, 7, 3, 6, 1, 1, 1, 1, 1]'),\n",
              " Text(0.25, 0.65, 'gini = 0.0\\nsamples = 7\\nvalue = [0, 0, 7, 0, 0, 0, 0, 0, 0, 0]'),\n",
              " Text(0.4166666666666667, 0.65, 'X[1] <= 3.5\\ngini = 0.745\\nsamples = 14\\nvalue = [0, 0, 0, 3, 6, 1, 1, 1, 1, 1]'),\n",
              " Text(0.3333333333333333, 0.55, 'gini = 0.0\\nsamples = 3\\nvalue = [0, 0, 0, 3, 0, 0, 0, 0, 0, 0]'),\n",
              " Text(0.5, 0.55, 'X[0] <= 4.5\\ngini = 0.661\\nsamples = 11\\nvalue = [0, 0, 0, 0, 6, 1, 1, 1, 1, 1]'),\n",
              " Text(0.4166666666666667, 0.45, 'gini = 0.0\\nsamples = 6\\nvalue = [0, 0, 0, 0, 6, 0, 0, 0, 0, 0]'),\n",
              " Text(0.5833333333333334, 0.45, 'X[1] <= 7.0\\ngini = 0.8\\nsamples = 5\\nvalue = [0, 0, 0, 0, 0, 1, 1, 1, 1, 1]'),\n",
              " Text(0.5, 0.35, 'gini = 0.0\\nsamples = 1\\nvalue = [0, 0, 0, 0, 0, 1, 0, 0, 0, 0]'),\n",
              " Text(0.6666666666666666, 0.35, 'X[0] <= 11.0\\ngini = 0.75\\nsamples = 4\\nvalue = [0, 0, 0, 0, 0, 0, 1, 1, 1, 1]'),\n",
              " Text(0.5833333333333334, 0.25, 'gini = 0.0\\nsamples = 1\\nvalue = [0, 0, 0, 0, 0, 0, 1, 0, 0, 0]'),\n",
              " Text(0.75, 0.25, 'X[0] <= 14.0\\ngini = 0.667\\nsamples = 3\\nvalue = [0, 0, 0, 0, 0, 0, 0, 1, 1, 1]'),\n",
              " Text(0.6666666666666666, 0.15, 'gini = 0.0\\nsamples = 1\\nvalue = [0, 0, 0, 0, 0, 0, 0, 1, 0, 0]'),\n",
              " Text(0.8333333333333334, 0.15, 'X[0] <= 17.0\\ngini = 0.5\\nsamples = 2\\nvalue = [0, 0, 0, 0, 0, 0, 0, 0, 1, 1]'),\n",
              " Text(0.75, 0.05, 'gini = 0.0\\nsamples = 1\\nvalue = [0, 0, 0, 0, 0, 0, 0, 0, 1, 0]'),\n",
              " Text(0.9166666666666666, 0.05, 'gini = 0.0\\nsamples = 1\\nvalue = [0, 0, 0, 0, 0, 0, 0, 0, 0, 1]')]"
            ]
          },
          "metadata": {},
          "execution_count": 11
        },
        {
          "output_type": "display_data",
          "data": {
            "text/plain": [
              "<Figure size 432x288 with 1 Axes>"
            ],
            "image/png": "[encoded data removed]"
          },
          "metadata": {
            "needs_background": "light"
          }
        }
      ]
    }
  ]
}