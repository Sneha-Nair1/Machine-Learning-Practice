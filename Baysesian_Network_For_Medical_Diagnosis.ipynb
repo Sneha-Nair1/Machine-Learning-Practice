{
  "nbformat": 4,
  "nbformat_minor": 0,
  "metadata": {
    "colab": {
      "provenance": []
    },
    "kernelspec": {
      "name": "python3",
      "display_name": "Python 3"
    },
    "language_info": {
      "name": "python"
    }
  },
  "cells": [
    {
      "cell_type": "code",
      "execution_count": null,
      "metadata": {
        "id": "D6LjzVxa10NS"
      },
      "outputs": [],
      "source": [
        "!pip install pgmpy\n",
        "import numpy as np\n",
        "from urllib.request import urlopen\n",
        "import urllib\n",
        "import pandas as pd\n",
        "from pgmpy.inference import VariableElimination\n",
        "from pgmpy.models import BayesianModel\n",
        "from pgmpy.estimators import MaximumLikelihoodEstimator, BayesianEstimator\n"
      ]
    },
    {
      "cell_type": "code",
      "source": [
        "names = ['age', 'sex', 'cp', 'trestbps', 'chol', 'fbs', 'restecg', 'thalach', 'exang', 'oldpeak', 'slope', 'ca', 'thal', 'heartdisease']"
      ],
      "metadata": {
        "id": "Gd2hv_yC2XBY"
      },
      "execution_count": 2,
      "outputs": []
    },
    {
      "cell_type": "code",
      "source": [
        "heartDisease = pd.read_csv('http://archive.ics.uci.edu/ml/machine-learning-databases/heart-disease/processed.hungarian.data', names = names)"
      ],
      "metadata": {
        "id": "bphggGSn2ajj"
      },
      "execution_count": 3,
      "outputs": []
    },
    {
      "cell_type": "code",
      "source": [
        "heartDisease = heartDisease.replace('?', np.nan)\n",
        "heartDisease.dtypes     \n"
      ],
      "metadata": {
        "id": "hmjL8nK82fn-"
      },
      "execution_count": null,
      "outputs": []
    },
    {
      "cell_type": "code",
      "source": [
        "model = BayesianModel([('age', 'trestbps'), ('age', 'fbs'), ('sex', 'trestbps'),('exang','trestbps'),('trestbps','heartdisease'),('fbs','heartdisease'),('heartdisease','restecg'),('heartdisease','thalach'),('heartdisease','chol')])"
      ],
      "metadata": {
        "id": "uEm77nhR2jMh"
      },
      "execution_count": null,
      "outputs": []
    },
    {
      "cell_type": "code",
      "source": [
        "model.get_independencies()\n",
        "model.fit(heartDisease, estimator=MaximumLikelihoodEstimator)\n"
      ],
      "metadata": {
        "id": "UrJDMS8v2qeF"
      },
      "execution_count": 6,
      "outputs": []
    },
    {
      "cell_type": "code",
      "source": [
        "from pgmpy.inference import VariableElimination\n",
        "HeartDisease_infer = VariableElimination(model)\n",
        "q = HeartDisease_infer.query(variables=[\"heartdisease\"], evidence={\"age\":33})\n",
        "print(q)\n"
      ],
      "metadata": {
        "id": "xmBhdWJz2v_x"
      },
      "execution_count": null,
      "outputs": []
    },
    {
      "cell_type": "code",
      "source": [
        "q = HeartDisease_infer.query(variables=[\"heartdisease\"], evidence={\"sex\":0})\n",
        "print(q)     \n"
      ],
      "metadata": {
        "id": "okVSJpPx2zf4",
        "outputId": "e138c3c5-b9d2-4059-81c3-3674dd83dbf4",
        "colab": {
          "base_uri": "https://localhost:8080/"
        }
      },
      "execution_count": 8,
      "outputs": [
        {
          "output_type": "stream",
          "name": "stdout",
          "text": [
            "+-----------------+---------------------+\n",
            "| heartdisease    |   phi(heartdisease) |\n",
            "+=================+=====================+\n",
            "| heartdisease(0) |              0.4839 |\n",
            "+-----------------+---------------------+\n",
            "| heartdisease(1) |              0.5161 |\n",
            "+-----------------+---------------------+\n"
          ]
        }
      ]
    }
  ]
}